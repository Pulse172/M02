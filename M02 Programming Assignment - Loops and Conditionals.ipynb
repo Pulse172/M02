{
 "cells": [
  {
   "cell_type": "markdown",
   "id": "ecdf9a43",
   "metadata": {},
   "source": [
    "4.1"
   ]
  },
  {
   "cell_type": "code",
   "execution_count": 17,
   "id": "d9b46b57",
   "metadata": {},
   "outputs": [
    {
     "name": "stdout",
     "output_type": "stream",
     "text": [
      "Guess what the secret number is between 1 and 10: 7\n",
      "Your guess was just right\n"
     ]
    }
   ],
   "source": [
    "secret= 7\n",
    "\n",
    "guess = int(input(\"Guess what the secret number is between 1 and 10: \"))\n",
    "\n",
    "if guess > secret:\n",
    "    print(\"Your guess was too high.\")\n",
    "if guess < secret:\n",
    "    print(\"Your guess was too low\")\n",
    "if guess == secret: \n",
    "    print(\"Your guess was just right\")\n"
   ]
  },
  {
   "cell_type": "markdown",
   "id": "f6151f8d",
   "metadata": {},
   "source": [
    "4.2"
   ]
  },
  {
   "cell_type": "code",
   "execution_count": 16,
   "id": "761c8b6f",
   "metadata": {},
   "outputs": [
    {
     "name": "stdout",
     "output_type": "stream",
     "text": [
      "Your item is a watermelon.\n"
     ]
    }
   ],
   "source": [
    "small = False\n",
    "green = True\n",
    "\n",
    "if small:\n",
    "    if green:\n",
    "        print(\"Your item is a pea.\")\n",
    "    else:\n",
    "        print(\"Your item is a cherry.\")\n",
    "else:\n",
    "    if green:\n",
    "        print(\"Your item is a watermelon.\")\n",
    "    else:\n",
    "        print(\"Your item is a pumpkin.\")"
   ]
  },
  {
   "cell_type": "markdown",
   "id": "094d0421",
   "metadata": {},
   "source": [
    "6.1"
   ]
  },
  {
   "cell_type": "code",
   "execution_count": 5,
   "id": "56981033",
   "metadata": {},
   "outputs": [
    {
     "name": "stdout",
     "output_type": "stream",
     "text": [
      "3\n",
      "2\n",
      "1\n",
      "0\n"
     ]
    }
   ],
   "source": [
    "number_list = [3,2,1,0]\n",
    "\n",
    "for number in number_list:\n",
    "    print(number)"
   ]
  },
  {
   "cell_type": "markdown",
   "id": "c997b6ef",
   "metadata": {},
   "source": [
    "6.2"
   ]
  },
  {
   "cell_type": "code",
   "execution_count": 15,
   "id": "34611f3a",
   "metadata": {},
   "outputs": [
    {
     "name": "stdout",
     "output_type": "stream",
     "text": [
      "1 is too low.\n",
      "2 is too low.\n",
      "3 is too low.\n",
      "4 is too low.\n",
      "5 is too low.\n",
      "6 is too low.\n",
      "Found it!\n"
     ]
    }
   ],
   "source": [
    "guess_me = 7\n",
    "number = 1\n",
    "\n",
    "while True:\n",
    "    if number < guess_me:\n",
    "        print(number, \"is too low.\")\n",
    "    elif number == guess_me:\n",
    "        print(\"Found it!\")\n",
    "        break\n",
    "    else:\n",
    "        print(\"Oops.\")\n",
    "        break\n",
    "    number += 1"
   ]
  },
  {
   "cell_type": "markdown",
   "id": "8630027e",
   "metadata": {},
   "source": [
    "6.3"
   ]
  },
  {
   "cell_type": "code",
   "execution_count": 14,
   "id": "f0a7800f",
   "metadata": {},
   "outputs": [
    {
     "name": "stdout",
     "output_type": "stream",
     "text": [
      "0 is too low.\n",
      "1 is too low.\n",
      "2 is too low.\n",
      "3 is too low.\n",
      "4 is too low.\n",
      "Found it!\n"
     ]
    }
   ],
   "source": [
    "guess_me = 5\n",
    "\n",
    "for number in range(10):\n",
    "    if number < guess_me:\n",
    "        print(number, \"is too low.\")\n",
    "    elif number == guess_me:\n",
    "        print(\"Found it!\")\n",
    "        break\n",
    "    else:\n",
    "        print(\"Oops.\")\n",
    "        break"
   ]
  },
  {
   "cell_type": "code",
   "execution_count": null,
   "id": "c04192b0",
   "metadata": {},
   "outputs": [],
   "source": []
  }
 ],
 "metadata": {
  "kernelspec": {
   "display_name": "Python 3 (ipykernel)",
   "language": "python",
   "name": "python3"
  },
  "language_info": {
   "codemirror_mode": {
    "name": "ipython",
    "version": 3
   },
   "file_extension": ".py",
   "mimetype": "text/x-python",
   "name": "python",
   "nbconvert_exporter": "python",
   "pygments_lexer": "ipython3",
   "version": "3.11.4"
  }
 },
 "nbformat": 4,
 "nbformat_minor": 5
}
